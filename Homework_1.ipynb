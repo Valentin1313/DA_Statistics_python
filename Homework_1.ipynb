{
 "cells": [
  {
   "cell_type": "markdown",
   "metadata": {
    "id": "pDrecLU-4QjS"
   },
   "source": [
    "# Практика"
   ]
  },
  {
   "cell_type": "code",
   "execution_count": 1,
   "metadata": {},
   "outputs": [
    {
     "name": "stdout",
     "output_type": "stream",
     "text": [
      "Requirement already satisfied: numpy in c:\\users\\valentin\\appdata\\local\\packages\\pythonsoftwarefoundation.python.3.11_qbz5n2kfra8p0\\localcache\\local-packages\\python311\\site-packages (2.1.1)\n",
      "Note: you may need to restart the kernel to use updated packages.\n"
     ]
    },
    {
     "name": "stderr",
     "output_type": "stream",
     "text": [
      "\n",
      "[notice] A new release of pip is available: 24.0 -> 24.2\n",
      "[notice] To update, run: C:\\Users\\Valentin\\AppData\\Local\\Microsoft\\WindowsApps\\PythonSoftwareFoundation.Python.3.11_qbz5n2kfra8p0\\python.exe -m pip install --upgrade pip\n"
     ]
    },
    {
     "name": "stdout",
     "output_type": "stream",
     "text": [
      "Note: you may need to restart the kernel to use updated packages.\n"
     ]
    },
    {
     "name": "stderr",
     "output_type": "stream",
     "text": [
      "ERROR: Could not find a version that satisfies the requirement random (from versions: none)\n",
      "ERROR: No matching distribution found for random\n",
      "\n",
      "[notice] A new release of pip is available: 24.0 -> 24.2\n",
      "[notice] To update, run: C:\\Users\\Valentin\\AppData\\Local\\Microsoft\\WindowsApps\\PythonSoftwareFoundation.Python.3.11_qbz5n2kfra8p0\\python.exe -m pip install --upgrade pip\n"
     ]
    },
    {
     "name": "stdout",
     "output_type": "stream",
     "text": [
      "Requirement already satisfied: matplotlib in c:\\users\\valentin\\appdata\\local\\packages\\pythonsoftwarefoundation.python.3.11_qbz5n2kfra8p0\\localcache\\local-packages\\python311\\site-packages (3.9.2)Note: you may need to restart the kernel to use updated packages.\n"
     ]
    },
    {
     "name": "stderr",
     "output_type": "stream",
     "text": [
      "\n",
      "[notice] A new release of pip is available: 24.0 -> 24.2\n",
      "[notice] To update, run: C:\\Users\\Valentin\\AppData\\Local\\Microsoft\\WindowsApps\\PythonSoftwareFoundation.Python.3.11_qbz5n2kfra8p0\\python.exe -m pip install --upgrade pip\n"
     ]
    },
    {
     "name": "stdout",
     "output_type": "stream",
     "text": [
      "\n",
      "Requirement already satisfied: contourpy>=1.0.1 in c:\\users\\valentin\\appdata\\local\\packages\\pythonsoftwarefoundation.python.3.11_qbz5n2kfra8p0\\localcache\\local-packages\\python311\\site-packages (from matplotlib) (1.3.0)\n",
      "Requirement already satisfied: cycler>=0.10 in c:\\users\\valentin\\appdata\\local\\packages\\pythonsoftwarefoundation.python.3.11_qbz5n2kfra8p0\\localcache\\local-packages\\python311\\site-packages (from matplotlib) (0.12.1)\n",
      "Requirement already satisfied: fonttools>=4.22.0 in c:\\users\\valentin\\appdata\\local\\packages\\pythonsoftwarefoundation.python.3.11_qbz5n2kfra8p0\\localcache\\local-packages\\python311\\site-packages (from matplotlib) (4.53.1)\n",
      "Requirement already satisfied: kiwisolver>=1.3.1 in c:\\users\\valentin\\appdata\\local\\packages\\pythonsoftwarefoundation.python.3.11_qbz5n2kfra8p0\\localcache\\local-packages\\python311\\site-packages (from matplotlib) (1.4.7)\n",
      "Requirement already satisfied: numpy>=1.23 in c:\\users\\valentin\\appdata\\local\\packages\\pythonsoftwarefoundation.python.3.11_qbz5n2kfra8p0\\localcache\\local-packages\\python311\\site-packages (from matplotlib) (2.1.1)\n",
      "Requirement already satisfied: packaging>=20.0 in c:\\users\\valentin\\appdata\\local\\packages\\pythonsoftwarefoundation.python.3.11_qbz5n2kfra8p0\\localcache\\local-packages\\python311\\site-packages (from matplotlib) (24.1)\n",
      "Requirement already satisfied: pillow>=8 in c:\\users\\valentin\\appdata\\local\\packages\\pythonsoftwarefoundation.python.3.11_qbz5n2kfra8p0\\localcache\\local-packages\\python311\\site-packages (from matplotlib) (10.4.0)\n",
      "Requirement already satisfied: pyparsing>=2.3.1 in c:\\users\\valentin\\appdata\\local\\packages\\pythonsoftwarefoundation.python.3.11_qbz5n2kfra8p0\\localcache\\local-packages\\python311\\site-packages (from matplotlib) (3.1.4)\n",
      "Requirement already satisfied: python-dateutil>=2.7 in c:\\users\\valentin\\appdata\\local\\packages\\pythonsoftwarefoundation.python.3.11_qbz5n2kfra8p0\\localcache\\local-packages\\python311\\site-packages (from matplotlib) (2.9.0.post0)\n",
      "Requirement already satisfied: six>=1.5 in c:\\users\\valentin\\appdata\\local\\packages\\pythonsoftwarefoundation.python.3.11_qbz5n2kfra8p0\\localcache\\local-packages\\python311\\site-packages (from python-dateutil>=2.7->matplotlib) (1.16.0)\n",
      "Requirement already satisfied: scipy in c:\\users\\valentin\\appdata\\local\\packages\\pythonsoftwarefoundation.python.3.11_qbz5n2kfra8p0\\localcache\\local-packages\\python311\\site-packages (1.14.1)\n",
      "Requirement already satisfied: numpy<2.3,>=1.23.5 in c:\\users\\valentin\\appdata\\local\\packages\\pythonsoftwarefoundation.python.3.11_qbz5n2kfra8p0\\localcache\\local-packages\\python311\\site-packages (from scipy) (2.1.1)\n",
      "Note: you may need to restart the kernel to use updated packages.\n"
     ]
    },
    {
     "name": "stderr",
     "output_type": "stream",
     "text": [
      "\n",
      "[notice] A new release of pip is available: 24.0 -> 24.2\n",
      "[notice] To update, run: C:\\Users\\Valentin\\AppData\\Local\\Microsoft\\WindowsApps\\PythonSoftwareFoundation.Python.3.11_qbz5n2kfra8p0\\python.exe -m pip install --upgrade pip\n",
      "\n",
      "[notice] A new release of pip is available: 24.0 -> 24.2\n",
      "[notice] To update, run: C:\\Users\\Valentin\\AppData\\Local\\Microsoft\\WindowsApps\\PythonSoftwareFoundation.Python.3.11_qbz5n2kfra8p0\\python.exe -m pip install --upgrade pip\n"
     ]
    },
    {
     "name": "stdout",
     "output_type": "stream",
     "text": [
      "Requirement already satisfied: pandas in c:\\users\\valentin\\appdata\\local\\packages\\pythonsoftwarefoundation.python.3.11_qbz5n2kfra8p0\\localcache\\local-packages\\python311\\site-packages (2.2.2)\n",
      "Requirement already satisfied: numpy>=1.23.2 in c:\\users\\valentin\\appdata\\local\\packages\\pythonsoftwarefoundation.python.3.11_qbz5n2kfra8p0\\localcache\\local-packages\\python311\\site-packages (from pandas) (2.1.1)\n",
      "Requirement already satisfied: python-dateutil>=2.8.2 in c:\\users\\valentin\\appdata\\local\\packages\\pythonsoftwarefoundation.python.3.11_qbz5n2kfra8p0\\localcache\\local-packages\\python311\\site-packages (from pandas) (2.9.0.post0)\n",
      "Requirement already satisfied: pytz>=2020.1 in c:\\users\\valentin\\appdata\\local\\packages\\pythonsoftwarefoundation.python.3.11_qbz5n2kfra8p0\\localcache\\local-packages\\python311\\site-packages (from pandas) (2024.1)\n",
      "Requirement already satisfied: tzdata>=2022.7 in c:\\users\\valentin\\appdata\\local\\packages\\pythonsoftwarefoundation.python.3.11_qbz5n2kfra8p0\\localcache\\local-packages\\python311\\site-packages (from pandas) (2024.1)\n",
      "Requirement already satisfied: six>=1.5 in c:\\users\\valentin\\appdata\\local\\packages\\pythonsoftwarefoundation.python.3.11_qbz5n2kfra8p0\\localcache\\local-packages\\python311\\site-packages (from python-dateutil>=2.8.2->pandas) (1.16.0)\n",
      "Note: you may need to restart the kernel to use updated packages.\n"
     ]
    }
   ],
   "source": [
    "%pip install numpy\n",
    "%pip install random\n",
    "%pip  install matplotlib\n",
    "%pip  install scipy\n",
    "%pip install pandas\n",
    "import numpy as np\n",
    "import pandas as pd\n",
    "import matplotlib.pyplot as plt\n",
    "import random\n",
    "import scipy.stats as sts\n",
    "%matplotlib inline\n",
    "from itertools import product"
   ]
  },
  {
   "cell_type": "markdown",
   "metadata": {
    "id": "gUvTNDlMaV-a"
   },
   "source": [
    "## Определение вероятности. События\n",
    "\n",
    "Требуется сгенерировать необходимые выборки и произвести по ним расчеты"
   ]
  },
  {
   "cell_type": "markdown",
   "metadata": {
    "id": "5V70InEBTgup"
   },
   "source": [
    "### Задача 1\n",
    "Брошено две монеты. Найти вероятность того, что монеты выпали разными сторонами\n",
    "\n",
    "_Ответ: 0.5_"
   ]
  },
  {
   "cell_type": "code",
   "execution_count": 2,
   "metadata": {
    "id": "88Iw-SL3jYQV"
   },
   "outputs": [
    {
     "name": "stdout",
     "output_type": "stream",
     "text": [
      "Вероятность выпадения монет разными сторонами= 0.5\n"
     ]
    }
   ],
   "source": [
    "coins=list(['OO','PP','OP','PO'])\n",
    "#np.random.choice(coins, 10)\n",
    "n=100000\n",
    "m=0\n",
    "for i in range(n):\n",
    "    a=np.random.choice(coins)\n",
    "    if a=='OP' or a=='PO':\n",
    "        m=m+1\n",
    "prob=m/n\n",
    "print(f'Вероятность выпадения монет разными сторонами=',round(prob,1))\n"
   ]
  },
  {
   "cell_type": "markdown",
   "metadata": {
    "id": "t0XOMos2Tl0e"
   },
   "source": [
    "### Задача 2\n",
    "Брошено три монеты. Описать множество всех элементарных событий. Найти вероятности следующих событий:\n",
    "\n",
    "\n",
    "1.   A = {не выпало ни одного герба}\n",
    "2.   B = {выпало четное число гербов}\n",
    "3.   C = {на третьей монете выпал герб}\n",
    "\n",
    "_Ответы:  0.125, 0.375, 0.5_"
   ]
  },
  {
   "cell_type": "code",
   "execution_count": 30,
   "metadata": {
    "id": "o7NjAE9uUo-L"
   },
   "outputs": [
    {
     "data": {
      "text/plain": [
       "[0.124, 0.377, 0.5]"
      ]
     },
     "execution_count": 30,
     "metadata": {},
     "output_type": "execute_result"
    }
   ],
   "source": [
    "coins=list(['PPP','PPO','OPP','POP','POO','OPO','OOP','OOO'])\n",
    "n=100000\n",
    "m=0\n",
    "f=0\n",
    "v=0\n",
    "for i in range(n):\n",
    "    a=np.random.choice(coins)\n",
    "    if a=='PPP': \n",
    "        m=m+1\n",
    "    if a in ['PPO','POP','OPP']:\n",
    "        f=f+1 \n",
    "    if a in ['OOO','PPO','POO','OPO']:\n",
    "        v=v+1\n",
    "prob_all=[round(m/n,3),round(f/n,3),round(v/n,1)]\n",
    "prob_all\n"
   ]
  },
  {
   "cell_type": "markdown",
   "metadata": {},
   "source": [
    "Предлагается также решить задачи: \n",
    "\n",
    "### Задача 3\n",
    "Из двух претендентов E и L на ответственную должность три члена комиссии должны отобрать одного. Каждый член комиссии должен указать либо одного достойного, либо забраковать обоих. Претендент считается выбранным, если он был признана достойным хотя бы двумя членами комиссии.\n",
    "Найти вероятность событий:\n",
    "\n",
    "A = {рекомендован L}, B = {рекомендован E}\n",
    "\n",
    "_Ответы: 0.26, 0.26_"
   ]
  },
  {
   "cell_type": "code",
   "execution_count": 23,
   "metadata": {},
   "outputs": [
    {
     "name": "stdout",
     "output_type": "stream",
     "text": [
      "probability A= 0.26 probability B= 0.26\n"
     ]
    }
   ],
   "source": [
    "choice=list([])\n",
    "n=100000\n",
    "m=0\n",
    "t=0\n",
    "for i in product('LEO', repeat=3):\n",
    "    choice.append(''.join(i))\n",
    "for i in range(n):\n",
    "    a=np.random.choice(choice)\n",
    "    if a.count('L')==2 or a.count('L')==3:\n",
    "        m+=1\n",
    "    if a.count('E')==2 or a.count('E')==3:\n",
    "        t+=1\n",
    "print(f'probability A=',round(m/n,2),f'probability B=',round(t/n,2))\n"
   ]
  },
  {
   "cell_type": "markdown",
   "metadata": {
    "id": "peM38mVfYa5B"
   },
   "source": [
    "### Задача 4\n",
    "Брошено две игральных кости. Описать множество элементарных событий. Найти вероятности событий:\n",
    "\n",
    "A = {вышло две \"шестерки\"}\n",
    "\n",
    "B = {сумма выпавших очков не меньше 11}\n",
    "\n",
    "C = {не выпала ни одна \"шестерка\"}\n",
    "\n",
    "_Ответы (не забывайте о множестве элементарных событий): 0.028, 0.083, 0.7_"
   ]
  },
  {
   "cell_type": "code",
   "execution_count": 22,
   "metadata": {},
   "outputs": [
    {
     "name": "stdout",
     "output_type": "stream",
     "text": [
      "probability A= 0.028 probability B= 0.083 probability C= 0.7\n"
     ]
    }
   ],
   "source": [
    "bone=list([])\n",
    "n=100000\n",
    "m=0\n",
    "t=0\n",
    "r=0\n",
    "for i in product('123456', repeat=2):\n",
    "    bone.append(''.join(i))\n",
    "for i in range(n):\n",
    "    a=np.random.choice(bone)\n",
    "    if a=='66':\n",
    "        m+=1\n",
    "    if (int(a[0])+int(a[1]))>=11:\n",
    "        t+=1\n",
    "    if a[0]!='6' and a[1]!='6':\n",
    "        r+=1\n",
    "\n",
    "print(f'probability A=',round(m/n,3),f'probability B=',round(t/n,3),f'probability C=',round(r/n,1))"
   ]
  },
  {
   "cell_type": "markdown",
   "metadata": {
    "id": "f-Bi0p8haclB"
   },
   "source": [
    "## Вероятность суммы событий"
   ]
  },
  {
   "cell_type": "markdown",
   "metadata": {
    "id": "g7A7QlvGTnwZ"
   },
   "source": [
    "### Задача 5\n",
    "Брошены две игральные кости. Найти вероятность события D = {выпала хотя бы одна шестёрка}\n",
    "\n",
    "_Ответ: 0.305_"
   ]
  },
  {
   "cell_type": "code",
   "execution_count": 31,
   "metadata": {
    "id": "vjtTJN-kUp9D"
   },
   "outputs": [
    {
     "name": "stdout",
     "output_type": "stream",
     "text": [
      "probability D= 0.306\n"
     ]
    }
   ],
   "source": [
    "bone=list([])\n",
    "n=100000\n",
    "m=0\n",
    "\n",
    "for i in product('123456', repeat=2):\n",
    "    bone.append(''.join(i))\n",
    "for i in range(n):\n",
    "    a=np.random.choice(bone)\n",
    "    if a.count('6')>=1:\n",
    "        m+=1\n",
    "print(f'probability D=',round(m/n,3))"
   ]
  },
  {
   "cell_type": "markdown",
   "metadata": {
    "id": "R1bYSzQQbC6I"
   },
   "source": [
    "Предлагается также решить задачи: \n",
    "\n",
    "### Задача 6\n",
    "В телефонном номере три последние цифры стерлись. Считая, что все возможные значения стершихся цифр равновероятны, найти вероятность событий:\n",
    "\n",
    "A = {Стерлись различные цифры},\n",
    "\n",
    "B = {Стерлись одинаковые цифры},\n",
    "\n",
    "C = {Среди стершихся цифр хотя бы две совпадают},\n",
    "\n",
    "D = {Среди стершихся цифр хотя бы две различны}\n",
    "\n",
    "_Ответы: 0.72, 0.01, 0.28, 0.99_"
   ]
  },
  {
   "cell_type": "code",
   "execution_count": 64,
   "metadata": {},
   "outputs": [
    {
     "name": "stdout",
     "output_type": "stream",
     "text": [
      "probability A= 0.72 probability B= 0.01 probability C= 0.28 probability D= 0.99\n"
     ]
    }
   ],
   "source": [
    "number=list([])\n",
    "n=100000\n",
    "m=0\n",
    "y=0\n",
    "x=0\n",
    "o=0\n",
    "for i in product('0123456789', repeat=3):\n",
    "    number.append(''.join(i))\n",
    "for i in range(n):\n",
    "    a=np.random.choice(number)\n",
    "    if a[0]!=a[1] and a[0]!=a[2] and a[1]!=a[2]:\n",
    "         m+=1\n",
    "    if a[0]==a[1] and a[0]==a[2] and a[1]==a[2]:\n",
    "        y+=1\n",
    "    if a[0]==a[1] or a[0]==a[2] or a[1]==a[2]:\n",
    "        x+=1\n",
    "    if a[0]!=a[1] or a[0]!=a[2] or a[1]!=a[2]:\n",
    "        o+=1\n",
    "   \n",
    "print(f'probability A=',round(m/n,2),\n",
    "      f'probability B=',round(y/n,2),\n",
    "      f'probability C=',round(x/n,2),\n",
    "      f'probability D=',round(o/n,2)\n",
    "      )"
   ]
  },
  {
   "cell_type": "markdown",
   "metadata": {
    "id": "RnugkR8BalK_"
   },
   "source": [
    "## Случайные величины"
   ]
  },
  {
   "cell_type": "markdown",
   "metadata": {
    "id": "yLoZDZ17UVsp"
   },
   "source": [
    "### Задача 7\n",
    "В лотерее имеется 10 билетов, из которых один выигрышный. Размер выигрыша 10 ден. ед.; стоимость билета 1 ден ед. Найти закон распределения случайной величины X, равной чистому выигрышу участника лотереи, который вытаскивает билет первым.\n",
    "\n",
    "_Ответ: закон распределения данной величины_"
   ]
  },
  {
   "cell_type": "code",
   "execution_count": 80,
   "metadata": {
    "id": "oNk432sKUqzT"
   },
   "outputs": [
    {
     "name": "stdout",
     "output_type": "stream",
     "text": [
      "Закон распределения случайной величины X= {9: 0.1, -1: 0.9}\n"
     ]
    }
   ],
   "source": [
    "lottery=list()\n",
    "n=100000\n",
    "m_str='0000000000'\n",
    "m=0\n",
    "g=0\n",
    "e=0\n",
    "for i in range(0, len(m_str)):\n",
    "    new_str = m_str[0:i]+'1'+m_str[i+1:]\n",
    "    lottery.append(new_str)\n",
    "for i in range(n):\n",
    "    a=np.random.choice(lottery)\n",
    "    b=random.randint(0,9)\n",
    "    if a[b]=='1':\n",
    "        m+=1\n",
    "        g=10-1\n",
    "    else: e=-1\n",
    "q=m/n\n",
    "prob=1-q\n",
    "probability=dict(zip([g,e],[round(q,2),round(prob,2)]))\n",
    "print(f'Закон распределения случайной величины X=',probability)"
   ]
  },
  {
   "cell_type": "markdown",
   "metadata": {
    "id": "U-NK9liSbpvb"
   },
   "source": [
    "Предлагается также решить задачу: \n",
    "\n",
    "### Задача 8\n",
    "Брошены две игральные кости. Найти закон распределения случайной величины $X$, равной сумме выпавших очков. Найти вероятности событий ${X <= 4}$, ${X > 4}$\n",
    "\n",
    "_Ответ: закон распределения случайной величины , вероятности событий  𝑋<=4 и 𝑋>4_"
   ]
  },
  {
   "cell_type": "code",
   "execution_count": 91,
   "metadata": {},
   "outputs": [
    {
     "name": "stdout",
     "output_type": "stream",
     "text": [
      "Закон распределения случайной величины= {2: 0.02737, 3: 0.05615, 4: 0.08513, 5: 0.11056, 6: 0.13878, 7: 0.1677, 8: 0.13886, 9: 0.10845, 10: 0.0832, 11: 0.05609, 12: 0.02771}\n",
      "Вероятности событий Х<=4\n",
      "2 : 0.02737\n",
      "3 : 0.05615\n",
      "4 : 0.08513\n",
      "Вероятности событий Х>4\n",
      "5 : 0.11056\n",
      "6 : 0.13878\n",
      "7 : 0.1677\n",
      "8 : 0.13886\n",
      "9 : 0.10845\n",
      "10 : 0.0832\n",
      "11 : 0.05609\n",
      "12 : 0.02771\n"
     ]
    }
   ],
   "source": [
    "number=list([])\n",
    "result=list([])\n",
    "n=100000\n",
    "m=0\n",
    "for i in product('123456', repeat=2):\n",
    "    number.append(''.join(i))\n",
    "for i in number:\n",
    "    a=int(i[0])+int(i[1])\n",
    "    result.append(a)\n",
    "result=list(set(result))\n",
    "bone= dict.fromkeys(result,0)\n",
    "for i in range(n):\n",
    "    a=np.random.choice(number)\n",
    "    a=int(a[0])+int(a[1])\n",
    "    for j in bone:\n",
    "        if j==a:  bone[j]+=1\n",
    "for i in bone:\n",
    "    bone[i]=bone[i]/n\n",
    "print(f'Закон распределения случайной величины=',bone)\n",
    "print(f'Вероятности событий Х<=4')\n",
    "for key, value in bone.items():\n",
    "    if key<=4:\n",
    "        print(key, \":\", value)\n",
    "print(f'Вероятности событий Х>4')\n",
    "for key, value in bone.items():\n",
    "    if key>4:\n",
    "        print(key, \":\", value)"
   ]
  },
  {
   "cell_type": "code",
   "execution_count": 33,
   "metadata": {},
   "outputs": [
    {
     "data": {
      "text/plain": [
       "[]"
      ]
     },
     "execution_count": 33,
     "metadata": {},
     "output_type": "execute_result"
    },
    {
     "data": {
      "image/png": "[encoded data removed]",
      "text/plain": [
       "<Figure size 640x480 with 1 Axes>"
      ]
     },
     "metadata": {},
     "output_type": "display_data"
    }
   ],
   "source": [
    "def funk_distribution(list_p):\n",
    "    p = 0\n",
    "    for i in range(len(list_p)):\n",
    "        p += list_p[i]\n",
    "    return p\n",
    "\n",
    "key = list(bone.keys())\n",
    "value = list(bone.values())\n",
    "\n",
    "cdf = list([])\n",
    "\n",
    "for i in range(len(value)):\n",
    "    a = funk_distribution(value[:i])\n",
    "    cdf.append(a)\n",
    "\n",
    "plt.step(key, cdf)\n",
    "plt.ylabel(\"$F(x)$\")\n",
    "plt.xlabel(\"$x$\")\n",
    "plt.plot()"
   ]
  },
  {
   "cell_type": "markdown",
   "metadata": {
    "id": "shgW4D83awjK"
   },
   "source": [
    "## Условные вероятности"
   ]
  },
  {
   "cell_type": "markdown",
   "metadata": {
    "id": "Fbu1RFZwWZrk"
   },
   "source": [
    "### Задача 9\n",
    "Из колоды (36 карт) вынимают последовательно без возвращения две карты. Найти вероятность того, что первой картой была шестерка, а второй — семерка. Найти условную вероятность того же события при условии, что обе карты бубновой масти.\n",
    "\n",
    "_Ответы: 0.0127, 0.0008_"
   ]
  },
  {
   "cell_type": "code",
   "execution_count": 9,
   "metadata": {
    "id": "037o56awW9-E"
   },
   "outputs": [
    {
     "name": "stdout",
     "output_type": "stream",
     "text": [
      "Условная вероятность= 0.0129\n",
      "Условная вероятность= 0.0009\n"
     ]
    }
   ],
   "source": [
    "cards=['6B','7B','8B','9B','10B','VB','DB','KB','TB','6C','7C','8C','9C','10C','VC','DC','KC','TC','6K','7K','8K','9K','10K','VK','DK','KK','TK','6V','7V','8V','9V','10V','VV','DV','KV','TV']\n",
    "n=100000\n",
    "m=0\n",
    "q=0\n",
    "copyP=cards.copy()\n",
    "for i in range(n):\n",
    "    a=np.random.choice(cards)\n",
    "    if a[0]=='6':\n",
    "        cards.remove(a)\n",
    "        b=np.random.choice(cards)\n",
    "        if b[0]=='7': q+=1\n",
    "    cards=copyP.copy()\n",
    "    if a=='6B':\n",
    "        cards.remove(a)\n",
    "        b=np.random.choice(cards)\n",
    "        if b=='7B': m+=1\n",
    "    cards=copyP.copy()\n",
    "\n",
    "p = q/n\n",
    "t=m/n\n",
    "print(f'Условная вероятность=',round(p,4))\n",
    "print(f'Условная вероятность=',round(t,4))"
   ]
  },
  {
   "cell_type": "markdown",
   "metadata": {
    "id": "hNVxtaz5c57b"
   },
   "source": [
    "Предлагается также решить задачу: \n",
    "\n",
    "### Задача 10\n",
    "Из урны, содержащей два белых и три черных шара, последовательно извлекают два шара; вынутые шары не возвращаются. Если первый шар оказался черным, то перед вторым извлечением в урну добавляют белый шар. В противном случае состав оставшихся шаров не меняют. Найти вероятности событий:\n",
    "\n",
    "$A$ = {извлечены два белых шара},\n",
    "\n",
    "$B$ = {извлечены два черных шара}\n",
    "\n",
    "Указание. Пусть событие $C_1$ = {первый шар белый}, событие $C_2$ = {второй шар белый}. Тогда $A = C_1C_2$, $B = \\overline C_1 \\overline C_2$ \n",
    "\n",
    "_Ответы: 0.1, 0.24_"
   ]
  },
  {
   "cell_type": "code",
   "execution_count": 16,
   "metadata": {
    "id": "WSLnhk2sdBt_"
   },
   "outputs": [
    {
     "name": "stdout",
     "output_type": "stream",
     "text": [
      "probability A= 0.1\n",
      "probability B= 0.24\n"
     ]
    }
   ],
   "source": [
    "trashcan=list(['white','white','black','black','black'])\n",
    "n=100000\n",
    "m=0\n",
    "q=0\n",
    "copyP=trashcan.copy()\n",
    "for i in range(n):\n",
    "    a=np.random.choice(trashcan)\n",
    "    if a=='black':\n",
    "        trashcan.remove(a)\n",
    "        trashcan.append('white')\n",
    "        b=np.random.choice(trashcan)\n",
    "        if b=='black': q+=1\n",
    "    elif a=='white':\n",
    "        trashcan.remove(a)\n",
    "        b=np.random.choice(trashcan)\n",
    "        if b=='white': m+=1\n",
    "    trashcan=copyP.copy()\n",
    "print(f'probability A=',round(m/n,1))\n",
    "print(f'probability B=',round(q/n,2))"
   ]
  }
 ],
 "metadata": {
  "colab": {
   "collapsed_sections": [],
   "name": "Практика к занятию 11.ipynb",
   "provenance": []
  },
  "kernelspec": {
   "display_name": "Python 3 (ipykernel)",
   "language": "python",
   "name": "python3"
  },
  "language_info": {
   "codemirror_mode": {
    "name": "ipython",
    "version": 3
   },
   "file_extension": ".py",
   "mimetype": "text/x-python",
   "name": "python",
   "nbconvert_exporter": "python",
   "pygments_lexer": "ipython3",
   "version": "3.11.9"
  }
 },
 "nbformat": 4,
 "nbformat_minor": 1
}
